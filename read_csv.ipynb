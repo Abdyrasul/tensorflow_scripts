{
  "nbformat": 4,
  "nbformat_minor": 0,
  "metadata": {
    "colab": {
      "name": "read_csv.ipynb",
      "version": "0.3.2",
      "provenance": [],
      "include_colab_link": true
    },
    "kernelspec": {
      "name": "python3",
      "display_name": "Python 3"
    }
  },
  "cells": [
    {
      "cell_type": "markdown",
      "metadata": {
        "id": "view-in-github",
        "colab_type": "text"
      },
      "source": [
        "<a href=\"https://colab.research.google.com/github/Abdyrasul/tensorflow_scripts/blob/master/read_csv.ipynb\" target=\"_parent\"><img src=\"https://colab.research.google.com/assets/colab-badge.svg\" alt=\"Open In Colab\"/></a>"
      ]
    },
    {
      "metadata": {
        "id": "sAwMizcncs2g",
        "colab_type": "code",
        "colab": {}
      },
      "cell_type": "code",
      "source": [
        "import pandas as pd\n",
        "import numpy as np"
      ],
      "execution_count": 0,
      "outputs": []
    },
    {
      "metadata": {
        "id": "NkcJEW9WcygE",
        "colab_type": "code",
        "colab": {}
      },
      "cell_type": "code",
      "source": [
        "csv = pd.read_csv(\"/content/s01_video01_calm_fear_sad_disgust_anger_happy.csv\")"
      ],
      "execution_count": 0,
      "outputs": []
    },
    {
      "metadata": {
        "id": "lSM0PiaSc6IW",
        "colab_type": "code",
        "colab": {
          "base_uri": "https://localhost:8080/",
          "height": 195
        },
        "outputId": "bda5f516-6234-466c-adc3-d51bf5d6e772"
      },
      "cell_type": "code",
      "source": [
        "csv.head(5)"
      ],
      "execution_count": 14,
      "outputs": [
        {
          "output_type": "execute_result",
          "data": {
            "text/html": [
              "<div>\n",
              "<style scoped>\n",
              "    .dataframe tbody tr th:only-of-type {\n",
              "        vertical-align: middle;\n",
              "    }\n",
              "\n",
              "    .dataframe tbody tr th {\n",
              "        vertical-align: top;\n",
              "    }\n",
              "\n",
              "    .dataframe thead th {\n",
              "        text-align: right;\n",
              "    }\n",
              "</style>\n",
              "<table border=\"1\" class=\"dataframe\">\n",
              "  <thead>\n",
              "    <tr style=\"text-align: right;\">\n",
              "      <th></th>\n",
              "      <th>ecg</th>\n",
              "      <th>gsr</th>\n",
              "      <th>temp</th>\n",
              "      <th>hr</th>\n",
              "      <th>spo2</th>\n",
              "      <th>timest</th>\n",
              "    </tr>\n",
              "  </thead>\n",
              "  <tbody>\n",
              "    <tr>\n",
              "      <th>0</th>\n",
              "      <td>1.7107</td>\n",
              "      <td>0.4252</td>\n",
              "      <td>40.00</td>\n",
              "      <td>65</td>\n",
              "      <td>96</td>\n",
              "      <td>31002</td>\n",
              "    </tr>\n",
              "    <tr>\n",
              "      <th>1</th>\n",
              "      <td>1.7253</td>\n",
              "      <td>0.4203</td>\n",
              "      <td>39.93</td>\n",
              "      <td>65</td>\n",
              "      <td>96</td>\n",
              "      <td>31006</td>\n",
              "    </tr>\n",
              "    <tr>\n",
              "      <th>2</th>\n",
              "      <td>1.7058</td>\n",
              "      <td>0.4154</td>\n",
              "      <td>40.03</td>\n",
              "      <td>65</td>\n",
              "      <td>96</td>\n",
              "      <td>31009</td>\n",
              "    </tr>\n",
              "    <tr>\n",
              "      <th>3</th>\n",
              "      <td>1.7302</td>\n",
              "      <td>0.4057</td>\n",
              "      <td>40.00</td>\n",
              "      <td>65</td>\n",
              "      <td>96</td>\n",
              "      <td>31012</td>\n",
              "    </tr>\n",
              "    <tr>\n",
              "      <th>4</th>\n",
              "      <td>1.7302</td>\n",
              "      <td>0.4106</td>\n",
              "      <td>39.86</td>\n",
              "      <td>65</td>\n",
              "      <td>96</td>\n",
              "      <td>31015</td>\n",
              "    </tr>\n",
              "  </tbody>\n",
              "</table>\n",
              "</div>"
            ],
            "text/plain": [
              "      ecg     gsr   temp  hr  spo2  timest\n",
              "0  1.7107  0.4252  40.00  65    96   31002\n",
              "1  1.7253  0.4203  39.93  65    96   31006\n",
              "2  1.7058  0.4154  40.03  65    96   31009\n",
              "3  1.7302  0.4057  40.00  65    96   31012\n",
              "4  1.7302  0.4106  39.86  65    96   31015"
            ]
          },
          "metadata": {
            "tags": []
          },
          "execution_count": 14
        }
      ]
    },
    {
      "metadata": {
        "id": "-vj3lpXWddmN",
        "colab_type": "code",
        "colab": {
          "base_uri": "https://localhost:8080/",
          "height": 34
        },
        "outputId": "d28b4ec3-7c9e-4bd5-8da7-4fb87dc0f9c6"
      },
      "cell_type": "code",
      "source": [
        "print(csv['ecg'].dtypes)"
      ],
      "execution_count": 15,
      "outputs": [
        {
          "output_type": "stream",
          "text": [
            "float64\n"
          ],
          "name": "stdout"
        }
      ]
    },
    {
      "metadata": {
        "id": "jl8tVUpgkHhB",
        "colab_type": "code",
        "colab": {
          "base_uri": "https://localhost:8080/",
          "height": 304
        },
        "outputId": "861c83f8-a538-4e08-b814-46945cabcc4f"
      },
      "cell_type": "code",
      "source": [
        "csv.describe()"
      ],
      "execution_count": 16,
      "outputs": [
        {
          "output_type": "execute_result",
          "data": {
            "text/html": [
              "<div>\n",
              "<style scoped>\n",
              "    .dataframe tbody tr th:only-of-type {\n",
              "        vertical-align: middle;\n",
              "    }\n",
              "\n",
              "    .dataframe tbody tr th {\n",
              "        vertical-align: top;\n",
              "    }\n",
              "\n",
              "    .dataframe thead th {\n",
              "        text-align: right;\n",
              "    }\n",
              "</style>\n",
              "<table border=\"1\" class=\"dataframe\">\n",
              "  <thead>\n",
              "    <tr style=\"text-align: right;\">\n",
              "      <th></th>\n",
              "      <th>ecg</th>\n",
              "      <th>gsr</th>\n",
              "      <th>temp</th>\n",
              "      <th>hr</th>\n",
              "      <th>spo2</th>\n",
              "      <th>timest</th>\n",
              "    </tr>\n",
              "  </thead>\n",
              "  <tbody>\n",
              "    <tr>\n",
              "      <th>count</th>\n",
              "      <td>113625.000000</td>\n",
              "      <td>113625.000000</td>\n",
              "      <td>113625.000000</td>\n",
              "      <td>113625.000000</td>\n",
              "      <td>113625.000000</td>\n",
              "      <td>113625.000000</td>\n",
              "    </tr>\n",
              "    <tr>\n",
              "      <th>mean</th>\n",
              "      <td>1.843371</td>\n",
              "      <td>0.201154</td>\n",
              "      <td>40.139905</td>\n",
              "      <td>65.390222</td>\n",
              "      <td>96.275855</td>\n",
              "      <td>222361.105998</td>\n",
              "    </tr>\n",
              "    <tr>\n",
              "      <th>std</th>\n",
              "      <td>0.402865</td>\n",
              "      <td>0.126322</td>\n",
              "      <td>0.134640</td>\n",
              "      <td>2.911744</td>\n",
              "      <td>1.131180</td>\n",
              "      <td>110903.486134</td>\n",
              "    </tr>\n",
              "    <tr>\n",
              "      <th>min</th>\n",
              "      <td>0.000000</td>\n",
              "      <td>0.000000</td>\n",
              "      <td>39.120000</td>\n",
              "      <td>59.000000</td>\n",
              "      <td>90.000000</td>\n",
              "      <td>31002.000000</td>\n",
              "    </tr>\n",
              "    <tr>\n",
              "      <th>25%</th>\n",
              "      <td>1.700900</td>\n",
              "      <td>0.107500</td>\n",
              "      <td>40.060000</td>\n",
              "      <td>64.000000</td>\n",
              "      <td>96.000000</td>\n",
              "      <td>126029.000000</td>\n",
              "    </tr>\n",
              "    <tr>\n",
              "      <th>50%</th>\n",
              "      <td>1.818200</td>\n",
              "      <td>0.185700</td>\n",
              "      <td>40.160000</td>\n",
              "      <td>65.000000</td>\n",
              "      <td>96.000000</td>\n",
              "      <td>222298.000000</td>\n",
              "    </tr>\n",
              "    <tr>\n",
              "      <th>75%</th>\n",
              "      <td>1.906200</td>\n",
              "      <td>0.317700</td>\n",
              "      <td>40.230000</td>\n",
              "      <td>67.000000</td>\n",
              "      <td>97.000000</td>\n",
              "      <td>318449.000000</td>\n",
              "    </tr>\n",
              "    <tr>\n",
              "      <th>max</th>\n",
              "      <td>5.000000</td>\n",
              "      <td>0.469200</td>\n",
              "      <td>40.670000</td>\n",
              "      <td>73.000000</td>\n",
              "      <td>98.000000</td>\n",
              "      <td>414499.000000</td>\n",
              "    </tr>\n",
              "  </tbody>\n",
              "</table>\n",
              "</div>"
            ],
            "text/plain": [
              "                 ecg            gsr           temp             hr  \\\n",
              "count  113625.000000  113625.000000  113625.000000  113625.000000   \n",
              "mean        1.843371       0.201154      40.139905      65.390222   \n",
              "std         0.402865       0.126322       0.134640       2.911744   \n",
              "min         0.000000       0.000000      39.120000      59.000000   \n",
              "25%         1.700900       0.107500      40.060000      64.000000   \n",
              "50%         1.818200       0.185700      40.160000      65.000000   \n",
              "75%         1.906200       0.317700      40.230000      67.000000   \n",
              "max         5.000000       0.469200      40.670000      73.000000   \n",
              "\n",
              "                spo2         timest  \n",
              "count  113625.000000  113625.000000  \n",
              "mean       96.275855  222361.105998  \n",
              "std         1.131180  110903.486134  \n",
              "min        90.000000   31002.000000  \n",
              "25%        96.000000  126029.000000  \n",
              "50%        96.000000  222298.000000  \n",
              "75%        97.000000  318449.000000  \n",
              "max        98.000000  414499.000000  "
            ]
          },
          "metadata": {
            "tags": []
          },
          "execution_count": 16
        }
      ]
    },
    {
      "metadata": {
        "id": "KESLmOF7m0ab",
        "colab_type": "code",
        "colab": {}
      },
      "cell_type": "code",
      "source": [
        ""
      ],
      "execution_count": 0,
      "outputs": []
    }
  ]
}