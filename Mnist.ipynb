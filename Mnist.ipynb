{
  "nbformat": 4,
  "nbformat_minor": 0,
  "metadata": {
    "colab": {
      "name": "Mnist.ipynb",
      "version": "0.3.2",
      "provenance": [],
      "collapsed_sections": [],
      "include_colab_link": true
    },
    "kernelspec": {
      "name": "python3",
      "display_name": "Python 3"
    }
  },
  "cells": [
    {
      "cell_type": "markdown",
      "metadata": {
        "id": "view-in-github",
        "colab_type": "text"
      },
      "source": [
        "<a href=\"https://colab.research.google.com/github/Abdyrasul/tensorflow_scripts/blob/master/Mnist.ipynb\" target=\"_parent\"><img src=\"https://colab.research.google.com/assets/colab-badge.svg\" alt=\"Open In Colab\"/></a>"
      ]
    },
    {
      "metadata": {
        "id": "ZQFQX7kZa7G_",
        "colab_type": "code",
        "outputId": "b36509da-38a7-43d8-ea19-18d7fc0cb2c0",
        "colab": {
          "base_uri": "https://localhost:8080/",
          "height": 205
        }
      },
      "cell_type": "code",
      "source": [
        "import tensorflow.keras as keras\n",
        "import tensorflow as tf\n",
        "import matplotlib.pyplot as plt\n",
        "mnist = tf.keras.datasets.mnist\n",
        "(x_train, y_train), (x_test, y_test) = mnist.load_data()\n",
        "x_train = tf.keras.utils.normalize(x_train, axis=1)\n",
        "x_test = tf.keras.utils.normalize(x_test, axis=1)\n",
        "model = tf.keras.models.Sequential()\n",
        "model.add(tf.keras.layers.Flatten())\n",
        "model.add(tf.keras.layers.Dense(128,activation = tf.nn.relu))\n",
        "model.add(tf.keras.layers.Dense(128, activation=tf.nn.relu))\n",
        "model.add(tf.keras.layers.Dense(10, activation=tf.nn.softmax))\n",
        "model.compile(optimizer='adam',\n",
        "              loss='sparse_categorical_crossentropy',\n",
        "              metrics=['accuracy'])\n",
        "model.fit(x_train, y_train, epochs=3)"
      ],
      "execution_count": 0,
      "outputs": [
        {
          "output_type": "stream",
          "text": [
            "WARNING:tensorflow:From /usr/local/lib/python3.6/dist-packages/tensorflow/python/ops/resource_variable_ops.py:435: colocate_with (from tensorflow.python.framework.ops) is deprecated and will be removed in a future version.\n",
            "Instructions for updating:\n",
            "Colocations handled automatically by placer.\n",
            "Epoch 1/3\n",
            "60000/60000 [==============================] - 9s 144us/sample - loss: 0.2621 - acc: 0.9229\n",
            "Epoch 2/3\n",
            "60000/60000 [==============================] - 8s 137us/sample - loss: 0.1076 - acc: 0.9669\n",
            "Epoch 3/3\n",
            "60000/60000 [==============================] - 8s 138us/sample - loss: 0.0737 - acc: 0.9764\n"
          ],
          "name": "stdout"
        },
        {
          "output_type": "execute_result",
          "data": {
            "text/plain": [
              "<tensorflow.python.keras.callbacks.History at 0x7f50939bc4e0>"
            ]
          },
          "metadata": {
            "tags": []
          },
          "execution_count": 1
        }
      ]
    },
    {
      "metadata": {
        "id": "ok_rN3STbAeb",
        "colab_type": "code",
        "outputId": "88edec91-3981-4e56-8d01-d5e286e287a8",
        "colab": {
          "base_uri": "https://localhost:8080/",
          "height": 670
        }
      },
      "cell_type": "code",
      "source": [
        "val_loss, val_acc = model.evaluate(x_test, y_test)\n",
        "print(val_loss)\n",
        "print(val_acc)\n",
        "model.save('elyazisi.model')\n",
        "yeni_model = tf.keras.models.load_model('elyazisi.model')\n",
        "predictions = yeni_model.predict(x_test)\n",
        "print(predictions)\n",
        "import numpy as np\n",
        "print(np.argmax(predictions[0]))\n",
        "plt.imshow(x_test[0],cmap=plt.cm.binary)\n",
        "plt.show()"
      ],
      "execution_count": 0,
      "outputs": [
        {
          "output_type": "stream",
          "text": [
            "10000/10000 [==============================] - 0s 43us/sample - loss: 0.1089 - acc: 0.9666\n",
            "0.10885795120429248\n",
            "0.9666\n",
            "WARNING:tensorflow:Sequential models without an `input_shape` passed to the first layer cannot reload their optimizer state. As a result, your model isstarting with a freshly initialized optimizer.\n",
            "[[3.3053956e-07 2.5483664e-06 3.3955672e-05 ... 9.9986291e-01\n",
            "  1.1177975e-05 6.3990087e-06]\n",
            " [2.5917478e-07 8.9471731e-03 9.9098915e-01 ... 1.7866761e-08\n",
            "  9.4741819e-07 2.3895842e-11]\n",
            " [7.7614862e-07 9.9987435e-01 1.7369461e-05 ... 4.4553257e-05\n",
            "  4.4880006e-05 6.4554087e-07]\n",
            " ...\n",
            " [3.4962238e-08 1.3432447e-06 1.4695210e-08 ... 1.4682695e-05\n",
            "  1.0801573e-06 8.6610147e-04]\n",
            " [2.5864339e-05 4.2895990e-06 2.2129777e-07 ... 7.8095866e-07\n",
            "  6.0442241e-04 1.6769860e-07]\n",
            " [2.8755082e-06 4.6656439e-08 6.7308116e-07 ... 8.0863524e-11\n",
            "  7.0956175e-06 9.4288639e-09]]\n",
            "7\n"
          ],
          "name": "stdout"
        },
        {
          "output_type": "display_data",
          "data": {
            "image/png": "[encoded data removed]",
            "text/plain": [
              "<Figure size 576x396 with 1 Axes>"
            ]
          },
          "metadata": {
            "tags": []
          }
        }
      ]
    },
    {
      "metadata": {
        "id": "AwieJtvSbM8o",
        "colab_type": "code",
        "colab": {}
      },
      "cell_type": "code",
      "source": [
        ""
      ],
      "execution_count": 0,
      "outputs": []
    }
  ]
}