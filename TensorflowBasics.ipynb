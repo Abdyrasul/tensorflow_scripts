{
  "nbformat": 4,
  "nbformat_minor": 0,
  "metadata": {
    "colab": {
      "name": "TensorflowBasics.ipynb",
      "version": "0.3.2",
      "provenance": [],
      "include_colab_link": true
    },
    "kernelspec": {
      "name": "python3",
      "display_name": "Python 3"
    }
  },
  "cells": [
    {
      "cell_type": "markdown",
      "metadata": {
        "id": "view-in-github",
        "colab_type": "text"
      },
      "source": [
        "<a href=\"https://colab.research.google.com/github/Abdyrasul/tensorflow_scripts/blob/master/TensorflowBasics.ipynb\" target=\"_parent\"><img src=\"https://colab.research.google.com/assets/colab-badge.svg\" alt=\"Open In Colab\"/></a>"
      ]
    },
    {
      "metadata": {
        "id": "XkOrB1sLA4jE",
        "colab_type": "code",
        "colab": {}
      },
      "cell_type": "code",
      "source": [
        "import tensorflow as tf"
      ],
      "execution_count": 0,
      "outputs": []
    },
    {
      "metadata": {
        "id": "NKY4rsU9A7wS",
        "colab_type": "code",
        "colab": {
          "base_uri": "https://localhost:8080/",
          "height": 34
        },
        "outputId": "a48d6d11-332a-441c-cc6e-54e79f3dfb51"
      },
      "cell_type": "code",
      "source": [
        "print(tf.__version__)"
      ],
      "execution_count": 2,
      "outputs": [
        {
          "output_type": "stream",
          "text": [
            "1.13.0-rc2\n"
          ],
          "name": "stdout"
        }
      ]
    },
    {
      "metadata": {
        "id": "Ln8HjKmtA-Ht",
        "colab_type": "code",
        "colab": {}
      },
      "cell_type": "code",
      "source": [
        "hello = tf.constant(\"Hello \")\n",
        "world = tf.constant(\"World\")\n",
        "with tf.Session() as sess:\n",
        "  result = sess.run(hello+world)"
      ],
      "execution_count": 0,
      "outputs": []
    },
    {
      "metadata": {
        "id": "GEbJskaABKFp",
        "colab_type": "code",
        "colab": {
          "base_uri": "https://localhost:8080/",
          "height": 34
        },
        "outputId": "905fa7a4-6b3e-42e8-b327-ba73c4124a3c"
      },
      "cell_type": "code",
      "source": [
        "print(result)"
      ],
      "execution_count": 6,
      "outputs": [
        {
          "output_type": "stream",
          "text": [
            "b'Hello World'\n"
          ],
          "name": "stdout"
        }
      ]
    },
    {
      "metadata": {
        "id": "rIY3Ik_jBhCG",
        "colab_type": "code",
        "colab": {
          "base_uri": "https://localhost:8080/",
          "height": 34
        },
        "outputId": "c270fdf2-415a-4384-c4ad-9f2f3214698b"
      },
      "cell_type": "code",
      "source": [
        "a = tf.constant(20)\n",
        "b = tf.constant(10)\n",
        "\n",
        "with tf.Session() as sess:\n",
        "  result = sess.run(a+b)\n",
        "print(result)"
      ],
      "execution_count": 8,
      "outputs": [
        {
          "output_type": "stream",
          "text": [
            "30\n"
          ],
          "name": "stdout"
        }
      ]
    },
    {
      "metadata": {
        "id": "3PSQ3IROB9TJ",
        "colab_type": "code",
        "colab": {
          "base_uri": "https://localhost:8080/",
          "height": 625
        },
        "outputId": "43c5b168-40d9-4809-d323-dcbb22f9f747"
      },
      "cell_type": "code",
      "source": [
        "const = tf.constant(10)\n",
        "fill_mat = tf.fill((4,4) , 10)\n",
        "myzeros = tf.zeros((4,4))\n",
        "myones = tf.ones((4,4))\n",
        "myrandn = tf.random_normal((4,4), mean=0, stddev = 1.0)\n",
        "myrandu = tf.random_uniform((4,4), minval=0,maxval=1)\n",
        "\n",
        "my_ops = [const,fill_mat, myzeros,myones,myrandn,myrandu]\n",
        "sess = tf.InteractiveSession()\n",
        "for op in my_ops:\n",
        "  print(sess.run(op))\n",
        "  print('\\n')"
      ],
      "execution_count": 12,
      "outputs": [
        {
          "output_type": "stream",
          "text": [
            "10\n",
            "\n",
            "\n",
            "[[10 10 10 10]\n",
            " [10 10 10 10]\n",
            " [10 10 10 10]\n",
            " [10 10 10 10]]\n",
            "\n",
            "\n",
            "[[0. 0. 0. 0.]\n",
            " [0. 0. 0. 0.]\n",
            " [0. 0. 0. 0.]\n",
            " [0. 0. 0. 0.]]\n",
            "\n",
            "\n",
            "[[1. 1. 1. 1.]\n",
            " [1. 1. 1. 1.]\n",
            " [1. 1. 1. 1.]\n",
            " [1. 1. 1. 1.]]\n",
            "\n",
            "\n",
            "[[ 1.1458247   1.4973329  -0.36557096 -0.23042147]\n",
            " [-0.5130656  -0.3058382   0.6274365   0.45197916]\n",
            " [ 0.6428634   0.6714652  -0.35690257 -1.9305389 ]\n",
            " [ 1.958415    0.0616704  -1.6073834  -0.4972214 ]]\n",
            "\n",
            "\n",
            "[[0.4657538  0.45804572 0.6352804  0.28622985]\n",
            " [0.18399811 0.99190176 0.8166611  0.32118785]\n",
            " [0.72918785 0.7117171  0.36969352 0.09052157]\n",
            " [0.49133396 0.49217832 0.18672931 0.6237173 ]]\n",
            "\n",
            "\n"
          ],
          "name": "stdout"
        },
        {
          "output_type": "stream",
          "text": [
            "/usr/local/lib/python3.6/dist-packages/tensorflow/python/client/session.py:1702: UserWarning: An interactive session is already active. This can cause out-of-memory errors in some cases. You must explicitly call `InteractiveSession.close()` to release resources held by the other session(s).\n",
            "  warnings.warn('An interactive session is already active. This can '\n"
          ],
          "name": "stderr"
        }
      ]
    },
    {
      "metadata": {
        "id": "GBHwBJDVEIUU",
        "colab_type": "code",
        "colab": {
          "base_uri": "https://localhost:8080/",
          "height": 34
        },
        "outputId": "10261a7b-2287-4377-ad3e-f41cbd700a82"
      },
      "cell_type": "code",
      "source": [
        "a = tf.constant([[1,2],\n",
        "                [3,4]])\n",
        "a.get_shape()"
      ],
      "execution_count": 13,
      "outputs": [
        {
          "output_type": "execute_result",
          "data": {
            "text/plain": [
              "TensorShape([Dimension(2), Dimension(2)])"
            ]
          },
          "metadata": {
            "tags": []
          },
          "execution_count": 13
        }
      ]
    },
    {
      "metadata": {
        "id": "_xJpR9YFEosZ",
        "colab_type": "code",
        "colab": {
          "base_uri": "https://localhost:8080/",
          "height": 50
        },
        "outputId": "49743643-a45d-49e4-a9c9-9443418b5108"
      },
      "cell_type": "code",
      "source": [
        "b = tf.constant([[10],\n",
        "               [100]])\n",
        "result = tf.matmul(a,b)\n",
        "sess.run(result)"
      ],
      "execution_count": 14,
      "outputs": [
        {
          "output_type": "execute_result",
          "data": {
            "text/plain": [
              "array([[210],\n",
              "       [430]], dtype=int32)"
            ]
          },
          "metadata": {
            "tags": []
          },
          "execution_count": 14
        }
      ]
    },
    {
      "metadata": {
        "id": "tXxm0QxoFF0H",
        "colab_type": "code",
        "colab": {
          "base_uri": "https://localhost:8080/",
          "height": 50
        },
        "outputId": "43505ca2-df5f-4e16-ba62-3549d27c9769"
      },
      "cell_type": "code",
      "source": [
        "result.eval()"
      ],
      "execution_count": 15,
      "outputs": [
        {
          "output_type": "execute_result",
          "data": {
            "text/plain": [
              "array([[210],\n",
              "       [430]], dtype=int32)"
            ]
          },
          "metadata": {
            "tags": []
          },
          "execution_count": 15
        }
      ]
    },
    {
      "metadata": {
        "id": "PDG6trkpFQa4",
        "colab_type": "code",
        "colab": {}
      },
      "cell_type": "code",
      "source": [
        ""
      ],
      "execution_count": 0,
      "outputs": []
    }
  ]
}