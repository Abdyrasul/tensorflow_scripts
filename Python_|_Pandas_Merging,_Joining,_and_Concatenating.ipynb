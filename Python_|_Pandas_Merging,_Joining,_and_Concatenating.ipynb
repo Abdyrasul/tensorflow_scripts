{
  "nbformat": 4,
  "nbformat_minor": 0,
  "metadata": {
    "colab": {
      "name": "Python | Pandas Merging, Joining, and Concatenating",
      "version": "0.3.2",
      "provenance": [],
      "include_colab_link": true
    },
    "kernelspec": {
      "name": "python3",
      "display_name": "Python 3"
    }
  },
  "cells": [
    {
      "cell_type": "markdown",
      "metadata": {
        "id": "view-in-github",
        "colab_type": "text"
      },
      "source": [
        "<a href=\"https://colab.research.google.com/github/Abdyrasul/tensorflow_scripts/blob/master/Python_%7C_Pandas_Merging%2C_Joining%2C_and_Concatenating.ipynb\" target=\"_parent\"><img src=\"https://colab.research.google.com/assets/colab-badge.svg\" alt=\"Open In Colab\"/></a>"
      ]
    },
    {
      "metadata": {
        "id": "UDTZUzork3BJ",
        "colab_type": "code",
        "colab": {}
      },
      "cell_type": "code",
      "source": [
        "import numpy as np\n",
        "import pandas as pd\n",
        "\n"
      ],
      "execution_count": 0,
      "outputs": []
    },
    {
      "metadata": {
        "id": "km41btM2k9g7",
        "colab_type": "code",
        "colab": {
          "base_uri": "https://localhost:8080/",
          "height": 202
        },
        "outputId": "d6009d63-bf0e-48ea-f27e-9ad8119d4120"
      },
      "cell_type": "code",
      "source": [
        "data1 = {'Name':['Ahmet', 'Mehmet', 'Ali', 'Hakan'],\n",
        "        'Age':[22,25,23,23],\n",
        "        'City': ['Mersin', 'Mugla', 'Istanbul', 'Ankara']}\n",
        "data1 = {'Name':['Mert', 'Furkan', 'Fatih', 'Muhammet'],\n",
        "        'Age':[22,25,23,23],\n",
        "        'City': ['Yalova', 'Bursa', 'Eskishehir', 'Izmir']}\n",
        "\n",
        "df = pd.DataFrame(data1, index = [0,1,2,3])\n",
        "df1 = pd.DataFrame(data1, index= [4,5,6,7])\n",
        "print(df, \"\\n\\n\", df1)"
      ],
      "execution_count": 3,
      "outputs": [
        {
          "output_type": "stream",
          "text": [
            "   Age        City      Name\n",
            "0   22      Yalova      Mert\n",
            "1   25       Bursa    Furkan\n",
            "2   23  Eskishehir     Fatih\n",
            "3   23       Izmir  Muhammet \n",
            "\n",
            "    Age        City      Name\n",
            "4   22      Yalova      Mert\n",
            "5   25       Bursa    Furkan\n",
            "6   23  Eskishehir     Fatih\n",
            "7   23       Izmir  Muhammet\n"
          ],
          "name": "stdout"
        }
      ]
    },
    {
      "metadata": {
        "id": "Vsosq1cql3Wo",
        "colab_type": "code",
        "colab": {
          "base_uri": "https://localhost:8080/",
          "height": 168
        },
        "outputId": "2cdab8ec-4613-46c0-b913-fa24ffc53b52"
      },
      "cell_type": "code",
      "source": [
        "frames = [df,df1]\n",
        "result = pd.concat(frames)\n",
        "print(result)"
      ],
      "execution_count": 4,
      "outputs": [
        {
          "output_type": "stream",
          "text": [
            "   Age        City      Name\n",
            "0   22      Yalova      Mert\n",
            "1   25       Bursa    Furkan\n",
            "2   23  Eskishehir     Fatih\n",
            "3   23       Izmir  Muhammet\n",
            "4   22      Yalova      Mert\n",
            "5   25       Bursa    Furkan\n",
            "6   23  Eskishehir     Fatih\n",
            "7   23       Izmir  Muhammet\n"
          ],
          "name": "stdout"
        }
      ]
    },
    {
      "metadata": {
        "id": "RxPmolS3S-5j",
        "colab_type": "code",
        "colab": {}
      },
      "cell_type": "code",
      "source": [
        "##Concatenating DataFrame by setting logic on axes"
      ],
      "execution_count": 0,
      "outputs": []
    },
    {
      "metadata": {
        "id": "JToImudCTuFg",
        "colab_type": "code",
        "colab": {
          "base_uri": "https://localhost:8080/",
          "height": 202
        },
        "outputId": "6cefff94-c3b1-481e-9ed9-5e18be5d0999"
      },
      "cell_type": "code",
      "source": [
        "data3 = {'Name':['Jai', 'Princi', 'Gaurav', 'Anuj'], \n",
        "        'Age':[27, 24, 22, 32], \n",
        "        'Address':['Nagpur', 'Kanpur', 'Allahabad', 'Kannuaj'], \n",
        "        'Qualification':['Msc', 'MA', 'MCA', 'Phd'],\n",
        "        'Mobile No': [97, 91, 58, 76]} \n",
        "   \n",
        "# Define a dictionary containing employee data \n",
        "data4 = {'Name':['Gaurav', 'Anuj', 'Dhiraj', 'Hitesh'], \n",
        "        'Age':[22, 32, 12, 52], \n",
        "        'Address':['Allahabad', 'Kannuaj', 'Allahabad', 'Kannuaj'], \n",
        "        'Qualification':['MCA', 'Phd', 'Bcom', 'B.hons'],\n",
        "        'Salary':[1000, 2000, 3000, 4000]} \n",
        "\n",
        "df2 = pd.DataFrame(data3, index=[0,1,2,3])\n",
        "df3 = pd.DataFrame(data4, index=[2,3,6,7])\n",
        "print(df2, '\\n\\n', df3)"
      ],
      "execution_count": 15,
      "outputs": [
        {
          "output_type": "stream",
          "text": [
            "     Address  Age  Mobile No    Name Qualification\n",
            "0     Nagpur   27         97     Jai           Msc\n",
            "1     Kanpur   24         91  Princi            MA\n",
            "2  Allahabad   22         58  Gaurav           MCA\n",
            "3    Kannuaj   32         76    Anuj           Phd \n",
            "\n",
            "      Address  Age    Name Qualification  Salary\n",
            "2  Allahabad   22  Gaurav           MCA    1000\n",
            "3    Kannuaj   32    Anuj           Phd    2000\n",
            "6  Allahabad   12  Dhiraj          Bcom    3000\n",
            "7    Kannuaj   52  Hitesh        B.hons    4000\n"
          ],
          "name": "stdout"
        }
      ]
    },
    {
      "metadata": {
        "id": "aFNlcC0VUXBa",
        "colab_type": "code",
        "colab": {
          "base_uri": "https://localhost:8080/",
          "height": 134
        },
        "outputId": "989f5528-312c-44b7-bbad-713739784019"
      },
      "cell_type": "code",
      "source": [
        "#applying concat with axes\n",
        "res2 = pd.concat([df2, df3], axis=1, join = 'inner')\n",
        "print(res2)"
      ],
      "execution_count": 16,
      "outputs": [
        {
          "output_type": "stream",
          "text": [
            "     Address  Age  Mobile No    Name Qualification    Address  Age    Name  \\\n",
            "2  Allahabad   22         58  Gaurav           MCA  Allahabad   22  Gaurav   \n",
            "3    Kannuaj   32         76    Anuj           Phd    Kannuaj   32    Anuj   \n",
            "\n",
            "  Qualification  Salary  \n",
            "2           MCA    1000  \n",
            "3           Phd    2000  \n"
          ],
          "name": "stdout"
        }
      ]
    },
    {
      "metadata": {
        "id": "JYpCsfA-UrNW",
        "colab_type": "code",
        "colab": {
          "base_uri": "https://localhost:8080/",
          "height": 202
        },
        "outputId": "b2ad98b6-5cd3-4263-fb1b-c8ffccb46f12"
      },
      "cell_type": "code",
      "source": [
        "res3 = pd.concat([df2,df3], axis = 1, join_axes = [df2.index])\n",
        "res3"
      ],
      "execution_count": 18,
      "outputs": [
        {
          "output_type": "execute_result",
          "data": {
            "text/html": [
              "<div>\n",
              "<style scoped>\n",
              "    .dataframe tbody tr th:only-of-type {\n",
              "        vertical-align: middle;\n",
              "    }\n",
              "\n",
              "    .dataframe tbody tr th {\n",
              "        vertical-align: top;\n",
              "    }\n",
              "\n",
              "    .dataframe thead th {\n",
              "        text-align: right;\n",
              "    }\n",
              "</style>\n",
              "<table border=\"1\" class=\"dataframe\">\n",
              "  <thead>\n",
              "    <tr style=\"text-align: right;\">\n",
              "      <th></th>\n",
              "      <th>Address</th>\n",
              "      <th>Age</th>\n",
              "      <th>Mobile No</th>\n",
              "      <th>Name</th>\n",
              "      <th>Qualification</th>\n",
              "      <th>Address</th>\n",
              "      <th>Age</th>\n",
              "      <th>Name</th>\n",
              "      <th>Qualification</th>\n",
              "      <th>Salary</th>\n",
              "    </tr>\n",
              "  </thead>\n",
              "  <tbody>\n",
              "    <tr>\n",
              "      <th>0</th>\n",
              "      <td>Nagpur</td>\n",
              "      <td>27</td>\n",
              "      <td>97</td>\n",
              "      <td>Jai</td>\n",
              "      <td>Msc</td>\n",
              "      <td>NaN</td>\n",
              "      <td>NaN</td>\n",
              "      <td>NaN</td>\n",
              "      <td>NaN</td>\n",
              "      <td>NaN</td>\n",
              "    </tr>\n",
              "    <tr>\n",
              "      <th>1</th>\n",
              "      <td>Kanpur</td>\n",
              "      <td>24</td>\n",
              "      <td>91</td>\n",
              "      <td>Princi</td>\n",
              "      <td>MA</td>\n",
              "      <td>NaN</td>\n",
              "      <td>NaN</td>\n",
              "      <td>NaN</td>\n",
              "      <td>NaN</td>\n",
              "      <td>NaN</td>\n",
              "    </tr>\n",
              "    <tr>\n",
              "      <th>2</th>\n",
              "      <td>Allahabad</td>\n",
              "      <td>22</td>\n",
              "      <td>58</td>\n",
              "      <td>Gaurav</td>\n",
              "      <td>MCA</td>\n",
              "      <td>Allahabad</td>\n",
              "      <td>22.0</td>\n",
              "      <td>Gaurav</td>\n",
              "      <td>MCA</td>\n",
              "      <td>1000.0</td>\n",
              "    </tr>\n",
              "    <tr>\n",
              "      <th>3</th>\n",
              "      <td>Kannuaj</td>\n",
              "      <td>32</td>\n",
              "      <td>76</td>\n",
              "      <td>Anuj</td>\n",
              "      <td>Phd</td>\n",
              "      <td>Kannuaj</td>\n",
              "      <td>32.0</td>\n",
              "      <td>Anuj</td>\n",
              "      <td>Phd</td>\n",
              "      <td>2000.0</td>\n",
              "    </tr>\n",
              "  </tbody>\n",
              "</table>\n",
              "</div>"
            ],
            "text/plain": [
              "     Address  Age  Mobile No    Name Qualification    Address   Age    Name  \\\n",
              "0     Nagpur   27         97     Jai           Msc        NaN   NaN     NaN   \n",
              "1     Kanpur   24         91  Princi            MA        NaN   NaN     NaN   \n",
              "2  Allahabad   22         58  Gaurav           MCA  Allahabad  22.0  Gaurav   \n",
              "3    Kannuaj   32         76    Anuj           Phd    Kannuaj  32.0    Anuj   \n",
              "\n",
              "  Qualification  Salary  \n",
              "0           NaN     NaN  \n",
              "1           NaN     NaN  \n",
              "2           MCA  1000.0  \n",
              "3           Phd  2000.0  "
            ]
          },
          "metadata": {
            "tags": []
          },
          "execution_count": 18
        }
      ]
    },
    {
      "metadata": {
        "id": "XaGfOHq5V2z4",
        "colab_type": "code",
        "colab": {}
      },
      "cell_type": "code",
      "source": [
        ""
      ],
      "execution_count": 0,
      "outputs": []
    }
  ]
}